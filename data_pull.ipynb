{
 "cells": [
  {
   "cell_type": "markdown",
   "metadata": {},
   "source": [
    "http://www.last.fm/api/ is the URL for the api"
   ]
  },
  {
   "cell_type": "code",
   "execution_count": 63,
   "metadata": {
    "collapsed": false
   },
   "outputs": [],
   "source": [
    "import urllib3\n",
    "import json\n",
    "from pandas.io.json import json_normalize\n",
    "import numpy as np"
   ]
  },
  {
   "cell_type": "code",
   "execution_count": 68,
   "metadata": {
    "collapsed": true
   },
   "outputs": [],
   "source": [
    "http = urllib3.PoolManager()"
   ]
  },
  {
   "cell_type": "markdown",
   "metadata": {},
   "source": [
    "**Possible Genres are: **\n",
    "    electronic, jazz, folk, indie, rock, pop, country, rap"
   ]
  },
  {
   "cell_type": "code",
   "execution_count": 112,
   "metadata": {
    "collapsed": false
   },
   "outputs": [],
   "source": [
    "genre = 'country'\n",
    "numSongs = '1000'\n",
    "apiKey = '0c25476dba4df7cb7e8aa5b7f2d7e295'\n",
    "url = 'http://ws.audioscrobbler.com/2.0/?method=tag.gettoptracks&tag='\n",
    "\n",
    "\n",
    "r = http.request('GET', url+genre+'&limit='+numSongs+'&api_key='+apiKey+'&format=json')\n",
    "data = json.loads(r.data.decode('utf-8'))\n",
    "test = json_normalize(data['tracks']['track'])\n",
    "test['duration'] = test['duration'].apply(lambda x: float(x))\n",
    "test.drop(['artist.mbid', 'image', 'streamable.#text', 'streamable.fulltrack', 'url', 'artist.url'] , axis=1, inplace=True)\n",
    "test = test.rename(columns = {'@attr.rank':'rank', 'artist.name':'artist'})\n",
    "test = test[['name', 'artist', 'duration', 'rank', 'mbid']]\n"
   ]
  },
  {
   "cell_type": "code",
   "execution_count": 113,
   "metadata": {
    "collapsed": true
   },
   "outputs": [],
   "source": [
    "test['name'] = test['name'].apply(lambda x: x.upper())\n",
    "test['artist'] = test['artist'].apply(lambda x: x.upper())"
   ]
  },
  {
   "cell_type": "code",
   "execution_count": 119,
   "metadata": {
    "collapsed": false
   },
   "outputs": [],
   "source": [
    "test.to_csv('country1000.csv')"
   ]
  },
  {
   "cell_type": "code",
   "execution_count": 111,
   "metadata": {
    "collapsed": false
   },
   "outputs": [],
   "source": []
  },
  {
   "cell_type": "code",
   "execution_count": null,
   "metadata": {
    "collapsed": true
   },
   "outputs": [],
   "source": []
  }
 ],
 "metadata": {
  "kernelspec": {
   "display_name": "Python 3",
   "language": "python",
   "name": "python3"
  },
  "language_info": {
   "codemirror_mode": {
    "name": "ipython",
    "version": 3
   },
   "file_extension": ".py",
   "mimetype": "text/x-python",
   "name": "python",
   "nbconvert_exporter": "python",
   "pygments_lexer": "ipython3",
   "version": "3.6.0"
  }
 },
 "nbformat": 4,
 "nbformat_minor": 2
}
